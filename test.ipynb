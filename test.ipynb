{
 "cells": [
  {
   "cell_type": "markdown",
   "metadata": {},
   "source": [
    "# gestion des secrets\n",
    "\n",
    "[source](https://savelev.medium.com/best-practice-how-to-store-secrets-and-settings-in-python-project-e3ee45b3094c)"
   ]
  },
  {
   "cell_type": "code",
   "execution_count": 146,
   "metadata": {},
   "outputs": [],
   "source": [
    "import os\n",
    "import json\n",
    "def read_secrets() -> dict:\n",
    "    filename = os.path.join('secrets.json')\n",
    "    try:\n",
    "        with open(filename, mode='r') as f:\n",
    "            return json.loads(f.read())\n",
    "    except FileNotFoundError:\n",
    "        return {}\n",
    "secrets = read_secrets()"
   ]
  },
  {
   "cell_type": "markdown",
   "metadata": {},
   "source": [
    "# test accès stripe"
   ]
  },
  {
   "cell_type": "code",
   "execution_count": 2,
   "metadata": {},
   "outputs": [
    {
     "name": "stdout",
     "output_type": "stream",
     "text": [
      "cha.le@hotmail.fr\n"
     ]
    }
   ],
   "source": [
    "import stripe\n",
    "stripe.api_key = secrets['stripe.api_key_test']\n",
    "\n",
    "# list customers\n",
    "customers = stripe.Customer.list()\n",
    "\n",
    "# print the first customer's email\n",
    "print(customers.data[0].email)\n",
    "\n",
    "# retrieve specific Customer\n",
    "# customer = stripe.Customer.retrieve(\"cus_123456789\")\n",
    "\n",
    "# print that customer's email\n",
    "# print(customer.email)"
   ]
  },
  {
   "cell_type": "markdown",
   "metadata": {},
   "source": [
    "# exeuction rapport"
   ]
  },
  {
   "cell_type": "code",
   "execution_count": 3,
   "metadata": {},
   "outputs": [],
   "source": [
    "import datetime\n",
    "import time"
   ]
  },
  {
   "cell_type": "code",
   "execution_count": 25,
   "metadata": {},
   "outputs": [
    {
     "name": "stderr",
     "output_type": "stream",
     "text": [
      "100%|██████████| 10000000/10000000 [00:01<00:00, 6958596.86it/s]\n"
     ]
    }
   ],
   "source": [
    "from tqdm import tqdm\n",
    "for i in tqdm(range(10000000)):\n",
    "    pass"
   ]
  },
  {
   "cell_type": "markdown",
   "metadata": {},
   "source": [
    "## gestion date début/fin rapport\n",
    "\n",
    "[lien vers doc de stripe](https://stripe.com/docs/api/reporting/report_run/object)\n",
    "\n",
    "[différents type de rapport stripe](https://stripe.com/docs/reports/report-types)"
   ]
  },
  {
   "cell_type": "code",
   "execution_count": 151,
   "metadata": {},
   "outputs": [],
   "source": [
    "import stripe\n",
    "import requests\n",
    "import pandas as pd\n",
    "import io\n",
    "from woocommerce import API\n",
    "from datetime import datetime\n",
    "\n",
    "stripe.api_key = secrets['stripe.api_key']\n",
    "\n",
    "def convert_to_timestamp(date):\n",
    "\treturn int(time.mktime(datetime.strptime(date, \"%d/%m/%Y\").timetuple()))\n",
    "\n",
    "def convert_to_isoformat(date_timestamp):\n",
    "\treturn datetime.fromtimestamp(date_timestamp).isoformat()\n",
    "\n",
    "def get_stripe_data(start_date, end_date, PAUSE=10):\n",
    "  report = stripe.reporting.ReportRun.create(\n",
    "    report_type=\"payout_reconciliation.itemized.5\",\n",
    "    parameters={\n",
    "      \"interval_start\": start_date,\n",
    "      \"interval_end\": end_date,\n",
    "      \"columns\": ['automatic_payout_id', \n",
    "      'automatic_payout_effective_at',\n",
    "      'balance_transaction_id',\n",
    "      'created', \n",
    "      'available_on',\n",
    "      'currency',\n",
    "      'gross',\n",
    "      'fee',\n",
    "      'net',\n",
    "      'reporting_category',\n",
    "      'source_id',\n",
    "      'description',\n",
    "      'customer_id',\n",
    "      'customer_email',\n",
    "      'customer_name',\n",
    "      'customer_description',\n",
    "      'invoice_id',\n",
    "      'order_id',\n",
    "      'payment_method_type'\n",
    "      ]\n",
    "    },\n",
    "  )\n",
    "\n",
    "\n",
    "  timeout = time.time() + 60*20   # 20 minutes from now\n",
    "  i=0\n",
    "\n",
    "  id = report['id']\n",
    "\n",
    "  while time.time() < timeout:\n",
    "      report = stripe.reporting.ReportRun.retrieve(id)\n",
    "      if report['status'] == 'succeeded':\n",
    "          print(f\"Execution {i+1} +{PAUSE*i}sec : {report['status']}\")\n",
    "          r = requests.get(report['result']['url'], auth=(stripe.api_key,\"\"))\n",
    "          urlData = r.content\n",
    "          df = pd.read_csv(io.StringIO(urlData.decode('utf-8')))\n",
    "          print('stripe_data_ok')\n",
    "          break\n",
    "      else :\n",
    "          print(f\"Execution {i+1} +{PAUSE*i}sec : {report['status']}\")\n",
    "      i +=1\n",
    "      time.sleep(PAUSE)\n",
    "  return df\n",
    "\n",
    "\n",
    "def get_woocommerce_data(start_date, end_date):\n",
    "\t#init api\n",
    "  wcapi = API(\n",
    "    url=secrets['woocommerce.url'], # Your store URL\n",
    "    consumer_key=secrets['woocommerce.key'], # Your consumer key\n",
    "    consumer_secret=secrets['woocommerce.secret'], # Your consumer secret\n",
    "    wp_api=True, # Enable the WP REST API integration\n",
    "    version=\"wc/v3\" # WooCommerce WP REST API version\n",
    "  )\n",
    "  nb_commandes = wcapi.get(\"orders\")\n",
    "  nb_commandes = nb_commandes.headers['X-WP-Total']\n",
    "  commandes = wcapi.get(f\"orders?per_page=30&after={start_date_isoformat}&before={end_date_isoformat}\")\n",
    "  df_commandes = pd.DataFrame(commandes.json())\n",
    "  print('woocommerce_data_ok')\n",
    "  return df_commandes   "
   ]
  },
  {
   "cell_type": "code",
   "execution_count": 152,
   "metadata": {},
   "outputs": [
    {
     "name": "stdout",
     "output_type": "stream",
     "text": [
      "Execution 1 +0sec : pending\n",
      "Execution 2 +10sec : pending\n",
      "Execution 3 +20sec : pending\n",
      "Execution 4 +30sec : succeeded\n",
      "stripe_data_ok\n",
      "woocommerce_data_ok\n"
     ]
    }
   ],
   "source": [
    "PAUSE = 60\n",
    "start_date = \"01/10/2022\"\n",
    "end_date = \"31/10/2022\"\n",
    "start_date_timestamp = convert_to_timestamp(start_date)\n",
    "end_date_timestamp = convert_to_timestamp(end_date)\n",
    "start_date_isoformat = convert_to_isoformat(start_date_timestamp)\n",
    "end_date_isoformat = convert_to_isoformat(end_date_timestamp)\n",
    "\n",
    "df_stripe = get_stripe_data(start_date_timestamp, end_date_timestamp)\n",
    "df_woocommerce = get_woocommerce_data(start_date_timestamp, end_date_timestamp)\n"
   ]
  }
 ],
 "metadata": {
  "kernelspec": {
   "display_name": "Python 3.10.6 ('ape-compta')",
   "language": "python",
   "name": "python3"
  },
  "language_info": {
   "codemirror_mode": {
    "name": "ipython",
    "version": 3
   },
   "file_extension": ".py",
   "mimetype": "text/x-python",
   "name": "python",
   "nbconvert_exporter": "python",
   "pygments_lexer": "ipython3",
   "version": "3.10.6"
  },
  "orig_nbformat": 4,
  "vscode": {
   "interpreter": {
    "hash": "860aaae56e31e0e00945cced38e5b01c3ae48e4798c5e8c254f74f72fc936c9c"
   }
  }
 },
 "nbformat": 4,
 "nbformat_minor": 2
}
