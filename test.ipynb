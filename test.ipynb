{
 "cells": [
  {
   "cell_type": "markdown",
   "metadata": {},
   "source": [
    "# gestion des secrets\n",
    "\n",
    "[source](https://savelev.medium.com/best-practice-how-to-store-secrets-and-settings-in-python-project-e3ee45b3094c)"
   ]
  },
  {
   "cell_type": "code",
   "execution_count": 1,
   "metadata": {},
   "outputs": [],
   "source": [
    "import os\n",
    "import json\n",
    "def read_secrets() -> dict:\n",
    "    filename = os.path.join('secrets.json')\n",
    "    try:\n",
    "        with open(filename, mode='r') as f:\n",
    "            return json.loads(f.read())\n",
    "    except FileNotFoundError:\n",
    "        return {}\n",
    "secrets = read_secrets()"
   ]
  },
  {
   "cell_type": "markdown",
   "metadata": {},
   "source": [
    "# test accès stripe"
   ]
  },
  {
   "cell_type": "code",
   "execution_count": 2,
   "metadata": {},
   "outputs": [],
   "source": [
    "# import stripe\n",
    "# stripe.api_key = secrets['stripe.api_key_test']\n",
    "\n",
    "# # list customers\n",
    "# customers = stripe.Customer.list()\n",
    "\n",
    "# # print the first customer's email\n",
    "# print(customers.data[0].email)\n",
    "\n",
    "# # retrieve specific Customer\n",
    "# # customer = stripe.Customer.retrieve(\"cus_123456789\")\n",
    "\n",
    "# # print that customer's email\n",
    "# # print(customer.email)"
   ]
  },
  {
   "cell_type": "markdown",
   "metadata": {},
   "source": [
    "# exeuction rapport"
   ]
  },
  {
   "cell_type": "code",
   "execution_count": 3,
   "metadata": {},
   "outputs": [
    {
     "name": "stderr",
     "output_type": "stream",
     "text": [
      "  9%|▉         | 9/100 [00:10<01:41,  1.11s/it]\n"
     ]
    },
    {
     "ename": "TimeoutError",
     "evalue": "long_running_function took too long!",
     "output_type": "error",
     "traceback": [
      "\u001b[0;31m---------------------------------------------------------------------------\u001b[0m",
      "\u001b[0;31mTimeoutError\u001b[0m                              Traceback (most recent call last)",
      "Cell \u001b[0;32mIn [3], line 14\u001b[0m\n\u001b[1;32m     10\u001b[0m         \u001b[39mif\u001b[39;00m elapsed_time \u001b[39m>\u001b[39m timeout:\n\u001b[1;32m     11\u001b[0m             \u001b[39mraise\u001b[39;00m \u001b[39mTimeoutError\u001b[39;00m(\u001b[39m\"\u001b[39m\u001b[39mlong_running_function took too long!\u001b[39m\u001b[39m\"\u001b[39m)\n\u001b[0;32m---> 14\u001b[0m long_running_function(\u001b[39m100\u001b[39;49m, timeout\u001b[39m=\u001b[39;49m\u001b[39m10\u001b[39;49m)\n",
      "Cell \u001b[0;32mIn [3], line 11\u001b[0m, in \u001b[0;36mlong_running_function\u001b[0;34m(n, timeout)\u001b[0m\n\u001b[1;32m      9\u001b[0m elapsed_time \u001b[39m=\u001b[39m time\u001b[39m.\u001b[39mtime() \u001b[39m-\u001b[39m start_time\n\u001b[1;32m     10\u001b[0m \u001b[39mif\u001b[39;00m elapsed_time \u001b[39m>\u001b[39m timeout:\n\u001b[0;32m---> 11\u001b[0m     \u001b[39mraise\u001b[39;00m \u001b[39mTimeoutError\u001b[39;00m(\u001b[39m\"\u001b[39m\u001b[39mlong_running_function took too long!\u001b[39m\u001b[39m\"\u001b[39m)\n",
      "\u001b[0;31mTimeoutError\u001b[0m: long_running_function took too long!"
     ]
    }
   ],
   "source": [
    "# from tqdm import tqdm\n",
    "# import time\n",
    "\n",
    "# def long_running_function(n, timeout=5):\n",
    "#     start_time = time.time()\n",
    "\n",
    "#     for _ in tqdm(list(range(n))):\n",
    "#         time.sleep(1)  # doing some expensive work...\n",
    "#         elapsed_time = time.time() - start_time\n",
    "#         if elapsed_time > timeout:\n",
    "#             raise TimeoutError(\"long_running_function took too long!\")\n",
    "\n",
    "\n",
    "# long_running_function(100, timeout=10)"
   ]
  },
  {
   "cell_type": "code",
   "execution_count": 25,
   "metadata": {},
   "outputs": [
    {
     "name": "stderr",
     "output_type": "stream",
     "text": [
      "100%|██████████| 10000000/10000000 [00:01<00:00, 6958596.86it/s]\n"
     ]
    }
   ],
   "source": [
    "from tqdm import tqdm\n",
    "for i in tqdm(range(10000000)):\n",
    "    pass"
   ]
  },
  {
   "cell_type": "markdown",
   "metadata": {},
   "source": [
    "## gestion date début/fin rapport\n",
    "\n",
    "[lien vers doc de stripe](https://stripe.com/docs/api/reporting/report_run/object)\n",
    "\n",
    "[différents type de rapport stripe](https://stripe.com/docs/reports/report-types)"
   ]
  },
  {
   "cell_type": "code",
   "execution_count": 63,
   "metadata": {},
   "outputs": [],
   "source": [
    "import stripe\n",
    "import requests\n",
    "import pandas as pd\n",
    "import io\n",
    "from woocommerce import API\n",
    "from datetime import datetime\n",
    "import time\n",
    "\n",
    "stripe.api_key = secrets['stripe.api_key']\n",
    "\n",
    "def date_converter(date):\n",
    "  \"\"\"convert date to timestamp and isoformat\n",
    "\n",
    "  Args:\n",
    "      date (exemple 20/01/22)\n",
    "\n",
    "  Returns:\n",
    "      _type_: renvoi la date en timestamp & la date en isoformat\n",
    "  \"\"\"\n",
    "  date_timestamp = int(time.mktime(datetime.strptime(date, \"%d/%m/%Y\").timetuple()))\n",
    "  date_isoformat = datetime.fromtimestamp(date_timestamp).isoformat()\n",
    "  return date_timestamp, date_isoformat\n",
    "\n",
    "def convert_to_isoformat(date_timestamp):\n",
    "\treturn datetime.fromtimestamp(date_timestamp).isoformat()\n",
    "\n",
    "def get_stripe_data(start_date, end_date, PAUSE=10):\n",
    "  report = stripe.reporting.ReportRun.create(\n",
    "    report_type=\"payout_reconciliation.itemized.5\",\n",
    "    parameters={\n",
    "      \"interval_start\": start_date,\n",
    "      \"interval_end\": end_date\n",
    "      # \"columns\": ['automatic_payout_id', \n",
    "      # 'automatic_payout_effective_at',\n",
    "      # 'balance_transaction_id',\n",
    "      # 'created', \n",
    "      # 'available_on',\n",
    "      # 'currency',\n",
    "      # 'gross',\n",
    "      # 'fee',\n",
    "      # 'net',\n",
    "      # 'reporting_category',\n",
    "      # # 'source_id',\n",
    "      # 'description'\n",
    "      # 'customer_id',\n",
    "      # 'customer_email',\n",
    "      # 'customer_name',\n",
    "      # 'customer_description',\n",
    "      # 'invoice_id',\n",
    "      # 'order_id',\n",
    "      # 'payment_method_type'\n",
    "      # ]\n",
    "    },\n",
    "  )\n",
    "\n",
    "\n",
    "  timeout = time.time() + 60*20   # 20 minutes from now\n",
    "  i=0\n",
    "\n",
    "  id = report['id']\n",
    "  print(id)\n",
    "\n",
    "  while time.time() < timeout:\n",
    "      report = stripe.reporting.ReportRun.retrieve(id)\n",
    "      if report['status'] == 'succeeded':\n",
    "          print(f\"Execution {i+1} +{PAUSE*i}sec : {report['status']}\")\n",
    "          r = requests.get(report['result']['url'], auth=(stripe.api_key,\"\"))\n",
    "          urlData = r.content\n",
    "          df = pd.read_csv(io.StringIO(urlData.decode('utf-8')))\n",
    "          print('stripe_data_ok')\n",
    "          break\n",
    "      else :\n",
    "          print(f\"Execution {i+1} +{PAUSE*i}sec : {report['status']}\")\n",
    "      i +=1\n",
    "      time.sleep(PAUSE)\n",
    "  return df\n",
    "\n",
    "\n",
    "def get_woocommerce_data(start_date_isoformat, end_date_isoformat):\n",
    "\t#init api\n",
    "  wcapi = API(\n",
    "    url=secrets['woocommerce.url'], # Your store URL\n",
    "    consumer_key=secrets['woocommerce.key'], # Your consumer key\n",
    "    consumer_secret=secrets['woocommerce.secret'], # Your consumer secret\n",
    "    wp_api=True, # Enable the WP REST API integration\n",
    "    version=\"wc/v3\" # WooCommerce WP REST API version\n",
    "  )\n",
    "  nb_commandes = wcapi.get(\"orders\")\n",
    "  nb_commandes = nb_commandes.headers['X-WP-Total']\n",
    "  commandes = wcapi.get(f\"orders?per_page=30&after={start_date_isoformat}&before={end_date_isoformat}\")\n",
    "  df_commandes = pd.DataFrame(commandes.json())\n",
    "  df_commandes = df_commandes[[\n",
    "\t\"id\",\n",
    "\t\"status\",\n",
    "\t\"currency\",\n",
    "\t\"date_created\",\n",
    "\t\"date_modified\",\n",
    "\t\"total\",\n",
    "\t\"payment_method\",\n",
    "\t\"customer_note\",\n",
    "\t\"line_items\",\n",
    "\t\"refunds\"\n",
    "  ]]\n",
    "  print('woocommerce_data_ok')\n",
    "  return df_commandes   "
   ]
  },
  {
   "cell_type": "code",
   "execution_count": 32,
   "metadata": {},
   "outputs": [],
   "source": [
    "start_date = \"01/10/2022\"\n",
    "end_date = \"31/10/2022\"\n",
    "start_date_timestamp, start_date_isoformat = date_converter(start_date)\n",
    "end_date_timestamp, end_date_isoformat = date_converter(end_date)\n",
    "report = stripe.reporting.ReportRun.create(\n",
    "report_type=\"payout_reconciliation.itemized.5\",\n",
    "parameters={\n",
    "\"interval_start\": start_date_timestamp,\n",
    "\"interval_end\": end_date_timestamp\n",
    "# \"columns\": ['automatic_payout_id', \n",
    "# 'automatic_payout_effective_at',\n",
    "# 'balance_transaction_id',\n",
    "# 'created', \n",
    "# 'available_on',\n",
    "# 'currency',\n",
    "# 'gross',\n",
    "# 'fee',\n",
    "# 'net',\n",
    "# 'reporting_category',\n",
    "# # 'source_id',\n",
    "# 'description'\n",
    "# 'customer_id',\n",
    "# 'customer_email',\n",
    "# 'customer_name',\n",
    "# 'customer_description',\n",
    "# 'invoice_id',\n",
    "# 'order_id',\n",
    "# 'payment_method_type'\n",
    "# ]\n",
    "},\n",
    ")"
   ]
  },
  {
   "cell_type": "code",
   "execution_count": 39,
   "metadata": {},
   "outputs": [
    {
     "data": {
      "text/plain": [
       "<ReportRun reporting.report_run id=frr_1LzM7CJeZLXFAOnZVx03FtN3 at 0x7fa07b64fc40> JSON: {\n",
       "  \"created\": 1667315458,\n",
       "  \"error\": null,\n",
       "  \"id\": \"frr_1LzM7CJeZLXFAOnZVx03FtN3\",\n",
       "  \"livemode\": true,\n",
       "  \"object\": \"reporting.report_run\",\n",
       "  \"parameters\": {\n",
       "    \"interval_end\": 1667170800,\n",
       "    \"interval_start\": 1664575200\n",
       "  },\n",
       "  \"report_type\": \"payout_reconciliation.itemized.5\",\n",
       "  \"result\": null,\n",
       "  \"status\": \"pending\",\n",
       "  \"succeeded_at\": null\n",
       "}"
      ]
     },
     "execution_count": 39,
     "metadata": {},
     "output_type": "execute_result"
    }
   ],
   "source": [
    "report = stripe.reporting.ReportRun.retrieve(\"frr_1LzM7CJeZLXFAOnZVx03FtN3\")\n",
    "report"
   ]
  },
  {
   "cell_type": "code",
   "execution_count": 64,
   "metadata": {},
   "outputs": [
    {
     "name": "stdout",
     "output_type": "stream",
     "text": [
      "frr_1LzSMNJeZLXFAOnZTKk7niNI\n",
      "Execution 1 +0sec : succeeded\n",
      "stripe_data_ok\n",
      "woocommerce_data_ok\n"
     ]
    }
   ],
   "source": [
    "PAUSE = 10\n",
    "start_date = \"01/10/2022\"\n",
    "end_date = \"01/11/2022\"\n",
    "start_date_timestamp, start_date_isoformat = date_converter(start_date)\n",
    "end_date_timestamp, end_date_isoformat = date_converter(end_date)\n",
    "\n",
    "df_stripe = get_stripe_data(start_date_timestamp, end_date_timestamp,PAUSE)\n",
    "df_woocommerce = get_woocommerce_data(start_date_isoformat, end_date_isoformat)\n"
   ]
  },
  {
   "cell_type": "code",
   "execution_count": 31,
   "metadata": {},
   "outputs": [
    {
     "ename": "NameError",
     "evalue": "name 'report' is not defined",
     "output_type": "error",
     "traceback": [
      "\u001b[0;31m---------------------------------------------------------------------------\u001b[0m",
      "\u001b[0;31mNameError\u001b[0m                                 Traceback (most recent call last)",
      "Cell \u001b[0;32mIn [31], line 1\u001b[0m\n\u001b[0;32m----> 1\u001b[0m report\n",
      "\u001b[0;31mNameError\u001b[0m: name 'report' is not defined"
     ]
    }
   ],
   "source": [
    "report"
   ]
  },
  {
   "cell_type": "code",
   "execution_count": 65,
   "metadata": {},
   "outputs": [
    {
     "data": {
      "text/html": [
       "<div>\n",
       "<style scoped>\n",
       "    .dataframe tbody tr th:only-of-type {\n",
       "        vertical-align: middle;\n",
       "    }\n",
       "\n",
       "    .dataframe tbody tr th {\n",
       "        vertical-align: top;\n",
       "    }\n",
       "\n",
       "    .dataframe thead th {\n",
       "        text-align: right;\n",
       "    }\n",
       "</style>\n",
       "<table border=\"1\" class=\"dataframe\">\n",
       "  <thead>\n",
       "    <tr style=\"text-align: right;\">\n",
       "      <th></th>\n",
       "      <th>automatic_payout_id</th>\n",
       "      <th>automatic_payout_effective_at</th>\n",
       "      <th>balance_transaction_id</th>\n",
       "      <th>created</th>\n",
       "      <th>available_on</th>\n",
       "      <th>currency</th>\n",
       "      <th>gross</th>\n",
       "      <th>fee</th>\n",
       "      <th>net</th>\n",
       "      <th>reporting_category</th>\n",
       "      <th>description</th>\n",
       "    </tr>\n",
       "  </thead>\n",
       "  <tbody>\n",
       "    <tr>\n",
       "      <th>0</th>\n",
       "      <td>po_1LxLgfJeZLXFAOnZxNZH9xJZ</td>\n",
       "      <td>2022-10-27 02:19:17</td>\n",
       "      <td>txn_3Lw733JeZLXFAOnZ0lqUL9pm</td>\n",
       "      <td>2022-10-23 16:29:18</td>\n",
       "      <td>2022-10-27 00:00:00</td>\n",
       "      <td>eur</td>\n",
       "      <td>36.0</td>\n",
       "      <td>0.75</td>\n",
       "      <td>35.25</td>\n",
       "      <td>charge</td>\n",
       "      <td>APE Dracy-le-Fort - Commande 453</td>\n",
       "    </tr>\n",
       "    <tr>\n",
       "      <th>1</th>\n",
       "      <td>po_1LxLgfJeZLXFAOnZxNZH9xJZ</td>\n",
       "      <td>2022-10-27 02:19:17</td>\n",
       "      <td>txn_3LwPqoJeZLXFAOnZ1F3AVSz5</td>\n",
       "      <td>2022-10-24 12:33:55</td>\n",
       "      <td>2022-10-27 00:00:00</td>\n",
       "      <td>eur</td>\n",
       "      <td>30.0</td>\n",
       "      <td>0.67</td>\n",
       "      <td>29.33</td>\n",
       "      <td>charge</td>\n",
       "      <td>APE Dracy-le-Fort - Commande 457</td>\n",
       "    </tr>\n",
       "    <tr>\n",
       "      <th>2</th>\n",
       "      <td>po_1LxLgfJeZLXFAOnZxNZH9xJZ</td>\n",
       "      <td>2022-10-27 02:19:17</td>\n",
       "      <td>txn_3LwVXNJeZLXFAOnZ091wsAPG</td>\n",
       "      <td>2022-10-24 18:38:14</td>\n",
       "      <td>2022-10-27 00:00:00</td>\n",
       "      <td>eur</td>\n",
       "      <td>36.0</td>\n",
       "      <td>0.75</td>\n",
       "      <td>35.25</td>\n",
       "      <td>charge</td>\n",
       "      <td>APE Dracy-le-Fort - Commande 458</td>\n",
       "    </tr>\n",
       "    <tr>\n",
       "      <th>3</th>\n",
       "      <td>po_1LynI1JeZLXFAOnZjxRikPwd</td>\n",
       "      <td>2022-10-31 01:59:49</td>\n",
       "      <td>txn_3Lx4KxJeZLXFAOnZ1vJGWLNk</td>\n",
       "      <td>2022-10-26 07:47:44</td>\n",
       "      <td>2022-10-31 00:00:00</td>\n",
       "      <td>eur</td>\n",
       "      <td>31.0</td>\n",
       "      <td>0.68</td>\n",
       "      <td>30.32</td>\n",
       "      <td>charge</td>\n",
       "      <td>APE Dracy-le-Fort - Commande 459</td>\n",
       "    </tr>\n",
       "    <tr>\n",
       "      <th>4</th>\n",
       "      <td>po_1LynI1JeZLXFAOnZjxRikPwd</td>\n",
       "      <td>2022-10-31 01:59:49</td>\n",
       "      <td>txn_3LxBVLJeZLXFAOnZ1VzNKKZz</td>\n",
       "      <td>2022-10-26 15:26:56</td>\n",
       "      <td>2022-10-31 00:00:00</td>\n",
       "      <td>eur</td>\n",
       "      <td>64.0</td>\n",
       "      <td>1.15</td>\n",
       "      <td>62.85</td>\n",
       "      <td>charge</td>\n",
       "      <td>APE Dracy-le-Fort - Commande 460</td>\n",
       "    </tr>\n",
       "  </tbody>\n",
       "</table>\n",
       "</div>"
      ],
      "text/plain": [
       "           automatic_payout_id automatic_payout_effective_at  \\\n",
       "0  po_1LxLgfJeZLXFAOnZxNZH9xJZ           2022-10-27 02:19:17   \n",
       "1  po_1LxLgfJeZLXFAOnZxNZH9xJZ           2022-10-27 02:19:17   \n",
       "2  po_1LxLgfJeZLXFAOnZxNZH9xJZ           2022-10-27 02:19:17   \n",
       "3  po_1LynI1JeZLXFAOnZjxRikPwd           2022-10-31 01:59:49   \n",
       "4  po_1LynI1JeZLXFAOnZjxRikPwd           2022-10-31 01:59:49   \n",
       "\n",
       "         balance_transaction_id              created         available_on  \\\n",
       "0  txn_3Lw733JeZLXFAOnZ0lqUL9pm  2022-10-23 16:29:18  2022-10-27 00:00:00   \n",
       "1  txn_3LwPqoJeZLXFAOnZ1F3AVSz5  2022-10-24 12:33:55  2022-10-27 00:00:00   \n",
       "2  txn_3LwVXNJeZLXFAOnZ091wsAPG  2022-10-24 18:38:14  2022-10-27 00:00:00   \n",
       "3  txn_3Lx4KxJeZLXFAOnZ1vJGWLNk  2022-10-26 07:47:44  2022-10-31 00:00:00   \n",
       "4  txn_3LxBVLJeZLXFAOnZ1VzNKKZz  2022-10-26 15:26:56  2022-10-31 00:00:00   \n",
       "\n",
       "  currency  gross   fee    net reporting_category  \\\n",
       "0      eur   36.0  0.75  35.25             charge   \n",
       "1      eur   30.0  0.67  29.33             charge   \n",
       "2      eur   36.0  0.75  35.25             charge   \n",
       "3      eur   31.0  0.68  30.32             charge   \n",
       "4      eur   64.0  1.15  62.85             charge   \n",
       "\n",
       "                        description  \n",
       "0  APE Dracy-le-Fort - Commande 453  \n",
       "1  APE Dracy-le-Fort - Commande 457  \n",
       "2  APE Dracy-le-Fort - Commande 458  \n",
       "3  APE Dracy-le-Fort - Commande 459  \n",
       "4  APE Dracy-le-Fort - Commande 460  "
      ]
     },
     "execution_count": 65,
     "metadata": {},
     "output_type": "execute_result"
    }
   ],
   "source": [
    "df_stripe.head()"
   ]
  },
  {
   "cell_type": "code",
   "execution_count": 66,
   "metadata": {},
   "outputs": [
    {
     "data": {
      "text/html": [
       "<div>\n",
       "<style scoped>\n",
       "    .dataframe tbody tr th:only-of-type {\n",
       "        vertical-align: middle;\n",
       "    }\n",
       "\n",
       "    .dataframe tbody tr th {\n",
       "        vertical-align: top;\n",
       "    }\n",
       "\n",
       "    .dataframe thead th {\n",
       "        text-align: right;\n",
       "    }\n",
       "</style>\n",
       "<table border=\"1\" class=\"dataframe\">\n",
       "  <thead>\n",
       "    <tr style=\"text-align: right;\">\n",
       "      <th></th>\n",
       "      <th>description</th>\n",
       "      <th>id</th>\n",
       "    </tr>\n",
       "  </thead>\n",
       "  <tbody>\n",
       "    <tr>\n",
       "      <th>0</th>\n",
       "      <td>APE Dracy-le-Fort - Commande 453</td>\n",
       "      <td>453</td>\n",
       "    </tr>\n",
       "    <tr>\n",
       "      <th>1</th>\n",
       "      <td>APE Dracy-le-Fort - Commande 457</td>\n",
       "      <td>457</td>\n",
       "    </tr>\n",
       "    <tr>\n",
       "      <th>2</th>\n",
       "      <td>APE Dracy-le-Fort - Commande 458</td>\n",
       "      <td>458</td>\n",
       "    </tr>\n",
       "    <tr>\n",
       "      <th>3</th>\n",
       "      <td>APE Dracy-le-Fort - Commande 459</td>\n",
       "      <td>459</td>\n",
       "    </tr>\n",
       "    <tr>\n",
       "      <th>4</th>\n",
       "      <td>APE Dracy-le-Fort - Commande 460</td>\n",
       "      <td>460</td>\n",
       "    </tr>\n",
       "  </tbody>\n",
       "</table>\n",
       "</div>"
      ],
      "text/plain": [
       "                        description   id\n",
       "0  APE Dracy-le-Fort - Commande 453  453\n",
       "1  APE Dracy-le-Fort - Commande 457  457\n",
       "2  APE Dracy-le-Fort - Commande 458  458\n",
       "3  APE Dracy-le-Fort - Commande 459  459\n",
       "4  APE Dracy-le-Fort - Commande 460  460"
      ]
     },
     "execution_count": 66,
     "metadata": {},
     "output_type": "execute_result"
    }
   ],
   "source": [
    "df_stripe['id'] = [int(x.split(' ')[-1]) for x in df_stripe['description']]\n",
    "df_stripe[['description', 'id']]"
   ]
  },
  {
   "cell_type": "code",
   "execution_count": 67,
   "metadata": {},
   "outputs": [],
   "source": [
    "df_merged = df_woocommerce.merge(df_stripe, on='id', how='outer')\n",
    "df_merged.to_csv('data.csv')"
   ]
  },
  {
   "cell_type": "code",
   "execution_count": 89,
   "metadata": {},
   "outputs": [],
   "source": [
    "test = df_merged.explode('line_items',ignore_index=True)\n",
    "# test['line_items'].to_list()\n",
    "test[['id', 'name', 'product_id', 'variation_id', 'quantity', 'tax_class',\n",
    "       'subtotal', 'subtotal_tax', 'total', 'total_tax', 'taxes', 'meta_data',\n",
    "       'sku', 'price', 'image', 'parent_name']] = pd.DataFrame(test['line_items'].to_list(), index= test.index)"
   ]
  },
  {
   "cell_type": "code",
   "execution_count": null,
   "metadata": {},
   "outputs": [],
   "source": []
  }
 ],
 "metadata": {
  "kernelspec": {
   "display_name": "Python 3.10.6 ('ape-compta')",
   "language": "python",
   "name": "python3"
  },
  "language_info": {
   "codemirror_mode": {
    "name": "ipython",
    "version": 3
   },
   "file_extension": ".py",
   "mimetype": "text/x-python",
   "name": "python",
   "nbconvert_exporter": "python",
   "pygments_lexer": "ipython3",
   "version": "3.10.6"
  },
  "orig_nbformat": 4,
  "vscode": {
   "interpreter": {
    "hash": "860aaae56e31e0e00945cced38e5b01c3ae48e4798c5e8c254f74f72fc936c9c"
   }
  }
 },
 "nbformat": 4,
 "nbformat_minor": 2
}
