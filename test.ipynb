{
 "cells": [
  {
   "cell_type": "markdown",
   "metadata": {},
   "source": [
    "# gestion des secrets"
   ]
  },
  {
   "cell_type": "code",
   "execution_count": 2,
   "metadata": {},
   "outputs": [],
   "source": [
    "import os\n",
    "import json\n",
    "def read_secrets() -> dict:\n",
    "    filename = os.path.join('secrets.json')\n",
    "    try:\n",
    "        with open(filename, mode='r') as f:\n",
    "            return json.loads(f.read())\n",
    "    except FileNotFoundError:\n",
    "        return {}\n",
    "secrets = read_secrets()"
   ]
  },
  {
   "cell_type": "markdown",
   "metadata": {},
   "source": [
    "# test accès stripe"
   ]
  },
  {
   "cell_type": "code",
   "execution_count": 3,
   "metadata": {},
   "outputs": [
    {
     "name": "stdout",
     "output_type": "stream",
     "text": [
      "cha.le@hotmail.fr\n"
     ]
    }
   ],
   "source": [
    "import stripe\n",
    "stripe.api_key = secrets['stripe.api_key_test']\n",
    "\n",
    "# list customers\n",
    "customers = stripe.Customer.list()\n",
    "\n",
    "# print the first customer's email\n",
    "print(customers.data[0].email)\n",
    "\n",
    "# retrieve specific Customer\n",
    "# customer = stripe.Customer.retrieve(\"cus_123456789\")\n",
    "\n",
    "# print that customer's email\n",
    "# print(customer.email)"
   ]
  },
  {
   "cell_type": "markdown",
   "metadata": {},
   "source": [
    "# exeuction rapport"
   ]
  },
  {
   "cell_type": "code",
   "execution_count": 4,
   "metadata": {},
   "outputs": [],
   "source": [
    "import datetime\n",
    "import time"
   ]
  },
  {
   "cell_type": "markdown",
   "metadata": {},
   "source": [
    "## gestion date début/fin rapport\n",
    "\n",
    "[lien vers doc de stripe](https://stripe.com/docs/api/reporting/report_run/object)"
   ]
  },
  {
   "cell_type": "code",
   "execution_count": 5,
   "metadata": {},
   "outputs": [],
   "source": [
    "def convert_to_timestamp(date):\n",
    "\treturn int(time.mktime(datetime.datetime.strptime(date, \"%d/%m/%Y\").timetuple()))\n",
    "\n",
    "start_date = \"01/10/2022\"\n",
    "end_date = \"30/10/2022\"\n",
    "start_date_timestamp = convert_to_timestamp(start_date)\n",
    "end_date_timestamp = convert_to_timestamp(end_date)"
   ]
  },
  {
   "cell_type": "code",
   "execution_count": 21,
   "metadata": {},
   "outputs": [
    {
     "data": {
      "text/plain": [
       "<ReportRun reporting.report_run id=frr_1Lye0nJeZLXFAOnZPi3JYTh8 at 0x7f03b6417f60> JSON: {\n",
       "  \"created\": 1667145925,\n",
       "  \"error\": null,\n",
       "  \"id\": \"frr_1Lye0nJeZLXFAOnZPi3JYTh8\",\n",
       "  \"livemode\": false,\n",
       "  \"object\": \"reporting.report_run\",\n",
       "  \"parameters\": {\n",
       "    \"interval_end\": 1667080800,\n",
       "    \"interval_start\": 1664575200\n",
       "  },\n",
       "  \"report_type\": \"payout_reconciliation.itemized.1\",\n",
       "  \"result\": null,\n",
       "  \"status\": \"pending\",\n",
       "  \"succeeded_at\": null\n",
       "}"
      ]
     },
     "execution_count": 21,
     "metadata": {},
     "output_type": "execute_result"
    }
   ],
   "source": [
    "import stripe\n",
    "stripe.api_key = secrets['stripe.api_key_test']\n",
    "\n",
    "report = stripe.reporting.ReportRun.create(\n",
    "  report_type=\"payout_reconciliation.itemized.1\",\n",
    "  parameters={\n",
    "    \"interval_start\": start_date_timestamp,\n",
    "    \"interval_end\": end_date_timestamp,\n",
    "  },\n",
    ")\n",
    "\n",
    "report"
   ]
  },
  {
   "cell_type": "code",
   "execution_count": 25,
   "metadata": {},
   "outputs": [
    {
     "data": {
      "text/plain": [
       "<ReportRun reporting.report_run id=frr_1Lye0nJeZLXFAOnZPi3JYTh8 at 0x7f03a4307ab0> JSON: {\n",
       "  \"created\": 1667145925,\n",
       "  \"error\": null,\n",
       "  \"id\": \"frr_1Lye0nJeZLXFAOnZPi3JYTh8\",\n",
       "  \"livemode\": false,\n",
       "  \"object\": \"reporting.report_run\",\n",
       "  \"parameters\": {\n",
       "    \"interval_end\": 1667080800,\n",
       "    \"interval_start\": 1664575200\n",
       "  },\n",
       "  \"report_type\": \"payout_reconciliation.itemized.1\",\n",
       "  \"result\": {\n",
       "    \"created\": 1667145952,\n",
       "    \"expires_at\": 1698681952,\n",
       "    \"filename\": \"frr_1Lye0nJeZLXFAOnZPi3JYTh8.csv\",\n",
       "    \"id\": \"file_1Lye1EJeZLXFAOnZ40nSgVLW\",\n",
       "    \"links\": {\n",
       "      \"data\": [],\n",
       "      \"has_more\": false,\n",
       "      \"object\": \"list\",\n",
       "      \"url\": \"/v1/file_links?file=file_1Lye1EJeZLXFAOnZ40nSgVLW\"\n",
       "    },\n",
       "    \"object\": \"file\",\n",
       "    \"purpose\": \"finance_report_run\",\n",
       "    \"size\": 254,\n",
       "    \"title\": \"FinanceReportRun frr_1Lye0nJeZLXFAOnZPi3JYTh8\",\n",
       "    \"type\": \"csv\",\n",
       "    \"url\": \"https://files.stripe.com/v1/files/file_1Lye1EJeZLXFAOnZ40nSgVLW/contents\"\n",
       "  },\n",
       "  \"status\": \"succeeded\",\n",
       "  \"succeeded_at\": 1667145952\n",
       "}"
      ]
     },
     "execution_count": 25,
     "metadata": {},
     "output_type": "execute_result"
    }
   ],
   "source": [
    "report = stripe.reporting.ReportRun.retrieve(\n",
    "  \"frr_1Lye0nJeZLXFAOnZPi3JYTh8\",\n",
    ")\n",
    "report"
   ]
  },
  {
   "cell_type": "code",
   "execution_count": 10,
   "metadata": {},
   "outputs": [
    {
     "data": {
      "text/plain": [
       "'https://files.stripe.com/v1/files/file_1LydqdJeZLXFAOnZDVoO94Yx/contents'"
      ]
     },
     "execution_count": 10,
     "metadata": {},
     "output_type": "execute_result"
    }
   ],
   "source": [
    "report['result']['url']"
   ]
  },
  {
   "cell_type": "code",
   "execution_count": 23,
   "metadata": {},
   "outputs": [
    {
     "data": {
      "text/plain": [
       "<ReportRun reporting.report_run id=frr_1Lye0nJeZLXFAOnZPi3JYTh8 at 0x7f03a432cc70> JSON: {\n",
       "  \"created\": 1667145925,\n",
       "  \"error\": null,\n",
       "  \"id\": \"frr_1Lye0nJeZLXFAOnZPi3JYTh8\",\n",
       "  \"livemode\": false,\n",
       "  \"object\": \"reporting.report_run\",\n",
       "  \"parameters\": {\n",
       "    \"interval_end\": 1667080800,\n",
       "    \"interval_start\": 1664575200\n",
       "  },\n",
       "  \"report_type\": \"payout_reconciliation.itemized.1\",\n",
       "  \"result\": null,\n",
       "  \"status\": \"pending\",\n",
       "  \"succeeded_at\": null\n",
       "}"
      ]
     },
     "execution_count": 23,
     "metadata": {},
     "output_type": "execute_result"
    }
   ],
   "source": [
    "test"
   ]
  },
  {
   "cell_type": "code",
   "execution_count": 26,
   "metadata": {},
   "outputs": [],
   "source": [
    "import requests\n",
    "\n",
    "r = requests.get(report['result']['url'], auth=(stripe.api_key,\"\"))"
   ]
  },
  {
   "cell_type": "code",
   "execution_count": 27,
   "metadata": {},
   "outputs": [
    {
     "data": {
      "text/plain": [
       "b'\"balance_transaction_id\",\"created_utc\",\"available_on_utc\",\"currency\",\"gross\",\"fee\",\"net\",\"reporting_category\",\"source_id\",\"description\",\"customer_facing_amount\",\"customer_facing_currency\",\"automatic_payout_id\",\"automatic_payout_effective_at\",\"charge_id\"\\n'"
      ]
     },
     "execution_count": 27,
     "metadata": {},
     "output_type": "execute_result"
    }
   ],
   "source": [
    "r.content"
   ]
  },
  {
   "cell_type": "code",
   "execution_count": null,
   "metadata": {},
   "outputs": [],
   "source": []
  }
 ],
 "metadata": {
  "kernelspec": {
   "display_name": "Python 3.10.6 ('ape-compta')",
   "language": "python",
   "name": "python3"
  },
  "language_info": {
   "codemirror_mode": {
    "name": "ipython",
    "version": 3
   },
   "file_extension": ".py",
   "mimetype": "text/x-python",
   "name": "python",
   "nbconvert_exporter": "python",
   "pygments_lexer": "ipython3",
   "version": "3.10.6"
  },
  "orig_nbformat": 4,
  "vscode": {
   "interpreter": {
    "hash": "860aaae56e31e0e00945cced38e5b01c3ae48e4798c5e8c254f74f72fc936c9c"
   }
  }
 },
 "nbformat": 4,
 "nbformat_minor": 2
}
