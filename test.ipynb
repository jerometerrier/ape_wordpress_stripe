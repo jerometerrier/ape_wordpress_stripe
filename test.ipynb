{
 "cells": [
  {
   "cell_type": "markdown",
   "metadata": {},
   "source": [
    "# gestion des secrets"
   ]
  },
  {
   "cell_type": "code",
   "execution_count": 1,
   "metadata": {},
   "outputs": [],
   "source": [
    "import pandas as pd\n"
   ]
  },
  {
   "cell_type": "code",
   "execution_count": null,
   "metadata": {},
   "outputs": [],
   "source": []
  },
  {
   "cell_type": "markdown",
   "metadata": {},
   "source": [
    "# test accès stripe"
   ]
  },
  {
   "cell_type": "code",
   "execution_count": 46,
   "metadata": {},
   "outputs": [
    {
     "name": "stdout",
     "output_type": "stream",
     "text": [
      "cha.le@hotmail.fr\n"
     ]
    }
   ],
   "source": [
    "import stripe\n",
    "stripe.api_key = secrets['stripe.api_key_test']\n",
    "\n",
    "# list customers\n",
    "customers = stripe.Customer.list()\n",
    "\n",
    "# print the first customer's email\n",
    "print(customers.data[0].email)\n",
    "\n",
    "# retrieve specific Customer\n",
    "# customer = stripe.Customer.retrieve(\"cus_123456789\")\n",
    "\n",
    "# print that customer's email\n",
    "# print(customer.email)"
   ]
  },
  {
   "cell_type": "markdown",
   "metadata": {},
   "source": [
    "# exeuction rapport"
   ]
  },
  {
   "cell_type": "code",
   "execution_count": 17,
   "metadata": {},
   "outputs": [],
   "source": [
    "import datetime\n",
    "import time"
   ]
  },
  {
   "cell_type": "markdown",
   "metadata": {},
   "source": [
    "## gestion date début/fin rapport\n",
    "\n",
    "[lien vers doc de stripe](https://stripe.com/docs/api/reporting/report_run/object)"
   ]
  },
  {
   "cell_type": "code",
   "execution_count": 39,
   "metadata": {},
   "outputs": [],
   "source": [
    "def convert_to_timestamp(date):\n",
    "\treturn int(time.mktime(datetime.datetime.strptime(date, \"%d/%m/%Y\").timetuple()))\n",
    "\n",
    "start_date = \"01/10/2022\"\n",
    "end_date = \"30/10/2022\"\n",
    "start_date_timestamp = convert_to_timestamp(start_date)\n",
    "end_date_timestamp = convert_to_timestamp(end_date)"
   ]
  },
  {
   "cell_type": "code",
   "execution_count": 40,
   "metadata": {},
   "outputs": [
    {
     "data": {
      "text/plain": [
       "<ReportRun reporting.report_run id=frr_1LyXTqJeZLXFAOnZr8PXprUR at 0x7f9be7bdb920> JSON: {\n",
       "  \"created\": 1667120818,\n",
       "  \"error\": null,\n",
       "  \"id\": \"frr_1LyXTqJeZLXFAOnZr8PXprUR\",\n",
       "  \"livemode\": false,\n",
       "  \"object\": \"reporting.report_run\",\n",
       "  \"parameters\": {\n",
       "    \"interval_end\": 1667080800,\n",
       "    \"interval_start\": 1664575200\n",
       "  },\n",
       "  \"report_type\": \"balance.summary.1\",\n",
       "  \"result\": null,\n",
       "  \"status\": \"pending\",\n",
       "  \"succeeded_at\": null\n",
       "}"
      ]
     },
     "execution_count": 40,
     "metadata": {},
     "output_type": "execute_result"
    }
   ],
   "source": [
    "import stripe\n",
    "stripe.api_key = secrets['stripe.api_key_test']\n",
    "\n",
    "stripe.reporting.ReportRun.create(\n",
    "  report_type=\"balance.summary.1\",\n",
    "  parameters={\n",
    "    \"interval_start\": start_date_timestamp,\n",
    "    \"interval_end\": end_date_timestamp,\n",
    "  },\n",
    ")"
   ]
  },
  {
   "cell_type": "code",
   "execution_count": 41,
   "metadata": {},
   "outputs": [],
   "source": [
    "test = stripe.reporting.ReportRun.retrieve(\n",
    "  \"frr_1LyXTqJeZLXFAOnZr8PXprUR\",\n",
    ")"
   ]
  },
  {
   "cell_type": "code",
   "execution_count": 44,
   "metadata": {},
   "outputs": [
    {
     "data": {
      "text/plain": [
       "dict_values(['frr_1LyXTqJeZLXFAOnZr8PXprUR', 'reporting.report_run', 1667120818, None, False, <StripeObject at 0x7f9be62e0130> JSON: {\n",
       "  \"interval_end\": 1667080800,\n",
       "  \"interval_start\": 1664575200\n",
       "}, 'balance.summary.1', <File file id=file_1LyXUAJeZLXFAOnZ6L8f794J at 0x7f9be62ee890> JSON: {\n",
       "  \"created\": 1667120838,\n",
       "  \"expires_at\": 1698656838,\n",
       "  \"filename\": \"frr_1LyXTqJeZLXFAOnZr8PXprUR.csv\",\n",
       "  \"id\": \"file_1LyXUAJeZLXFAOnZ6L8f794J\",\n",
       "  \"links\": {\n",
       "    \"data\": [],\n",
       "    \"has_more\": false,\n",
       "    \"object\": \"list\",\n",
       "    \"url\": \"/v1/file_links?file=file_1LyXUAJeZLXFAOnZ6L8f794J\"\n",
       "  },\n",
       "  \"object\": \"file\",\n",
       "  \"purpose\": \"finance_report_run\",\n",
       "  \"size\": 406,\n",
       "  \"title\": \"FinanceReportRun frr_1LyXTqJeZLXFAOnZr8PXprUR\",\n",
       "  \"type\": \"csv\",\n",
       "  \"url\": \"https://files.stripe.com/v1/files/file_1LyXUAJeZLXFAOnZ6L8f794J/contents\"\n",
       "}, 'succeeded', 1667120838])"
      ]
     },
     "execution_count": 44,
     "metadata": {},
     "output_type": "execute_result"
    }
   ],
   "source": [
    "test.values()"
   ]
  },
  {
   "cell_type": "code",
   "execution_count": null,
   "metadata": {},
   "outputs": [],
   "source": [
    "import requests\n",
    "\n",
    "r = requests()"
   ]
  }
 ],
 "metadata": {
  "kernelspec": {
   "display_name": "Python 3.10.6 ('ape-compta')",
   "language": "python",
   "name": "python3"
  },
  "language_info": {
   "codemirror_mode": {
    "name": "ipython",
    "version": 3
   },
   "file_extension": ".py",
   "mimetype": "text/x-python",
   "name": "python",
   "nbconvert_exporter": "python",
   "pygments_lexer": "ipython3",
   "version": "3.10.6"
  },
  "orig_nbformat": 4,
  "vscode": {
   "interpreter": {
    "hash": "860aaae56e31e0e00945cced38e5b01c3ae48e4798c5e8c254f74f72fc936c9c"
   }
  }
 },
 "nbformat": 4,
 "nbformat_minor": 2
}
